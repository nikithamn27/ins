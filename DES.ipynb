{
  "nbformat": 4,
  "nbformat_minor": 0,
  "metadata": {
    "colab": {
      "provenance": [],
      "authorship_tag": "ABX9TyOW+5ON53SR0BvNF4OXC/jm",
      "include_colab_link": true
    },
    "kernelspec": {
      "name": "python3",
      "display_name": "Python 3"
    },
    "language_info": {
      "name": "python"
    }
  },
  "cells": [
    {
      "cell_type": "markdown",
      "metadata": {
        "id": "view-in-github",
        "colab_type": "text"
      },
      "source": [
        "<a href=\"https://colab.research.google.com/github/nikithamn27/ins/blob/main/DES.ipynb\" target=\"_parent\"><img src=\"https://colab.research.google.com/assets/colab-badge.svg\" alt=\"Open In Colab\"/></a>"
      ]
    },
    {
      "cell_type": "code",
      "execution_count": null,
      "metadata": {
        "colab": {
          "base_uri": "https://localhost:8080/"
        },
        "id": "F1mQDSao2GOz",
        "outputId": "0e21e613-3be7-4d14-e320-3d44a7621563"
      },
      "outputs": [
        {
          "name": "stdout",
          "output_type": "stream",
          "text": [
            "Enter a string: text\n"
          ]
        }
      ],
      "source": [
        "import random\n",
        "\n",
        "# Take input string\n",
        "s = input(\"Enter a string: \")\n",
        "\n",
        "# Convert string to binary\n",
        "result = ''.join(format(ord(i), '08b') for i in s)\n",
        "\n",
        "# Initialize answer string to collect selected bits\n",
        "answer = \"\"\n",
        "\n",
        "# Collect the bits that are in positions which are multiples of 8\n",
        "for i in range(len(result)):\n",
        "    if i % 8 == 0:  # Corrected the condition to check every 8th bit\n",
        "        answer += result[i]\n",
        "\n",
        "# Split answer into left and right halves\n",
        "l = len(answer) // 2  # Integer division\n",
        "left = answer[:l]\n",
        "right = answer[l:]\n",
        "\n",
        "# Sample transformation for 'lt' positions (This part is unclear, so I assume a permutation idea)\n",
        "lt = [2, 3, 6, 7, 1, 6, 5, 9]  # It seems like a list of indices, but it's incomplete\n",
        "keys = []\n",
        "\n",
        "# Generate keys\n",
        "for i in range(0, 8):\n",
        "    newKey = \"\"\n",
        "    newAnswer = \"\"\n",
        "\n",
        "    # Convert left and right to integer and apply binary operations\n",
        "    nl = int(left, 2)  # Convert left part to integer\n",
        "    nr = int(right, 2)  # Convert right part to integer\n",
        "\n",
        "    # Apply shifting or other manipulations (not clearly defined, so I assume you want a shift)\n",
        "    nl = nl << lt[i]  # Example shift (this is an assumption since logic is unclear)\n",
        "    nr = nr >> lt[i]  # Another shift, you may need to adjust this logic\n",
        "\n",
        "    # Combine the left an\n"
      ]
    }
  ]
}
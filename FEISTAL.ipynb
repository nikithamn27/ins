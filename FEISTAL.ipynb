{
  "nbformat": 4,
  "nbformat_minor": 0,
  "metadata": {
    "colab": {
      "provenance": [],
      "authorship_tag": "ABX9TyMQMRXiNOWg5yI3Nh3CokdH",
      "include_colab_link": true
    },
    "kernelspec": {
      "name": "python3",
      "display_name": "Python 3"
    },
    "language_info": {
      "name": "python"
    }
  },
  "cells": [
    {
      "cell_type": "markdown",
      "metadata": {
        "id": "view-in-github",
        "colab_type": "text"
      },
      "source": [
        "<a href=\"https://colab.research.google.com/github/nikithamn27/ins/blob/main/FEISTAL.ipynb\" target=\"_parent\"><img src=\"https://colab.research.google.com/assets/colab-badge.svg\" alt=\"Open In Colab\"/></a>"
      ]
    },
    {
      "cell_type": "code",
      "execution_count": null,
      "metadata": {
        "colab": {
          "base_uri": "https://localhost:8080/"
        },
        "id": "OjC2HpMv3U0U",
        "outputId": "8f66ae89-9f99-400f-ba3e-e11138ba12dd"
      },
      "outputs": [
        {
          "output_type": "stream",
          "name": "stdout",
          "text": [
            "Enter a string: HELLO WORLD\n",
            "Result :  0100100001000101010011000100110001001111001000000101011101001111010100100100110001000100\n",
            "Enter a key: HELLO\n",
            "Key:  0100100001000101010011000100110001001111\n",
            "Cipher:  0100100001000101010011000100110001001111001000000101011101001111010100100100110001000100\n",
            "Plaintext:  HELLO WORLD\n"
          ]
        }
      ],
      "source": [
        "s = input(\"Enter a string: \")\n",
        "# Convert string to ASCII, then to 8-bit binary\n",
        "result = \"\".join(format(ord(i), '08b') for i in s)\n",
        "print(\"Result : \", result)\n",
        "\n",
        "# Split the result into two halves: left and right\n",
        "l = len(result) // 2\n",
        "left = result[:l]\n",
        "right = result[l:]\n",
        "\n",
        "k = input(\"Enter a key: \")\n",
        "key = \"\".join(format(ord(i), '08b') for i in k)\n",
        "print(\"Key: \", key)\n",
        "\n",
        "# Step 1: XOR the right half with the key (key should be same length as the right part)\n",
        "s = bin(int(right, 2) + int(key, 2))  # Sum the right half and the key (this is just an example, you could do something else)\n",
        "answer = bin(int(s[2:], 2) ^ int(left, 2))  # XOR the sum with the left half\n",
        "\n",
        "# Get the new values for right and left\n",
        "newr = answer[2:].zfill(len(right))  # Ensure it's padded to the right length\n",
        "newl = right\n",
        "\n",
        "# Swap the new left and right parts\n",
        "newr, newl = newl, newr\n",
        "\n",
        "# Step 2: XOR again with the key\n",
        "s = bin(int(newr, 2) + int(key, 2))  # Again sum the new right and key\n",
        "ans = bin(int(s[2:], 2) ^ int(newl, 2))  # XOR again with the new left\n",
        "\n",
        "# Get the final cipher\n",
        "nl = newr\n",
        "nr = ans[2:].zfill(len(newl))  # Ensure it's padded to the left length\n",
        "nl, nr = nr, nl  # Swap again\n",
        "\n",
        "# Combine the two parts to form the final cipher\n",
        "cipher = nl + nr\n",
        "print(\"Cipher: \", cipher)\n",
        "\n",
        "# Decryption (inverse of the process, you should reverse the encryption steps)\n",
        "# The process should ideally swap the halves again and apply the same transformations.\n",
        "plainText = \"\"\n",
        "for i in range(0, len(cipher), 8):\n",
        "    temp = cipher[i:i + 8]\n",
        "    d = int(temp, 2)\n",
        "    plainText = plainText + chr(d)\n",
        "\n",
        "print(\"Plaintext: \", plainText)\n"
      ]
    }
  ]
}
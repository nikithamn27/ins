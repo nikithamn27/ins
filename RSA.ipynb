{
  "nbformat": 4,
  "nbformat_minor": 0,
  "metadata": {
    "colab": {
      "provenance": [],
      "authorship_tag": "ABX9TyPLP/yLmufwnRcIVWZMo068",
      "include_colab_link": true
    },
    "kernelspec": {
      "name": "python3",
      "display_name": "Python 3"
    },
    "language_info": {
      "name": "python"
    }
  },
  "cells": [
    {
      "cell_type": "markdown",
      "metadata": {
        "id": "view-in-github",
        "colab_type": "text"
      },
      "source": [
        "<a href=\"https://colab.research.google.com/github/nikithamn27/ins/blob/main/RSA.ipynb\" target=\"_parent\"><img src=\"https://colab.research.google.com/assets/colab-badge.svg\" alt=\"Open In Colab\"/></a>"
      ]
    },
    {
      "cell_type": "code",
      "source": [
        "def gcd(a, b):\n",
        "    while b:\n",
        "        a, b = b, a % b\n",
        "    return a\n",
        "\n",
        "def mod_inverse(e, phi):\n",
        "    # Use the Extended Euclidean Algorithm to find the modular inverse\n",
        "    d = 0\n",
        "    x1, x2, y1, y2 = 0, 1, 1, 0\n",
        "    original_phi = phi\n",
        "\n",
        "    while e > 1:\n",
        "        q = e // phi\n",
        "        e, phi = phi, e % phi\n",
        "        x1, x2 = x2 - q * x1, x1\n",
        "        y1, y2 = y2 - q * y1, y1\n",
        "\n",
        "    if x2 < 0:\n",
        "        x2 += original_phi\n",
        "\n",
        "    return x2\n",
        "\n",
        "def RSA(p, q, msg):\n",
        "    n = p * q\n",
        "    phi = (p - 1) * (q - 1)\n",
        "\n",
        "    # Find e such that 1 < e < phi and gcd(e, phi) == 1\n",
        "    for i in range(2, phi):\n",
        "        if gcd(i, phi) == 1:\n",
        "            e = i\n",
        "            break\n",
        "\n",
        "    # Find d, the modular inverse of e mod phi\n",
        "    d = mod_inverse(e, phi)\n",
        "\n",
        "    # Encryption: c = (msg^e) % n\n",
        "    c = (msg ** e) % n\n",
        "    print(\"Encrypted message:\", c)\n",
        "\n",
        "    # Decryption: msg = (c^d) % n\n",
        "    decrypted_msg = (c ** d) % n\n",
        "    print(\"Decrypted message:\", decrypted_msg)\n",
        "\n",
        "# Get input from the user\n",
        "p = int(input(\"Enter the value of p: \"))\n",
        "q = int(input(\"Enter the value of q: \"))\n",
        "msg = int(input(\"Enter a message (numerical): \"))\n",
        "\n",
        "RSA(p, q, msg)\n"
      ],
      "metadata": {
        "colab": {
          "base_uri": "https://localhost:8080/"
        },
        "id": "nsCTIRvw1eJr",
        "outputId": "dd1fa766-1687-451d-8d53-36df0a0d577a"
      },
      "execution_count": null,
      "outputs": [
        {
          "output_type": "stream",
          "name": "stdout",
          "text": [
            "Enter the value of p: 61\n",
            "Enter the value of q: 53\n",
            "Enter a message (numerical): 65\n",
            "Encrypted message: 1317\n",
            "Decrypted message: 65\n"
          ]
        }
      ]
    }
  ]
}